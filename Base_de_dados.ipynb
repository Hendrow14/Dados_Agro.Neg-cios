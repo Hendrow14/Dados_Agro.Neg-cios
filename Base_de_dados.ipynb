{
 "cells": [
  {
   "cell_type": "markdown",
   "metadata": {},
   "source": [
    "Importando bibliotecas para análise de dados."
   ]
  },
  {
   "cell_type": "code",
   "execution_count": 6,
   "metadata": {},
   "outputs": [],
   "source": [
    "import pandas as pd"
   ]
  },
  {
   "cell_type": "code",
   "execution_count": 1,
   "metadata": {},
   "outputs": [],
   "source": [
    "import numpy as np"
   ]
  },
  {
   "cell_type": "code",
   "execution_count": 2,
   "metadata": {},
   "outputs": [],
   "source": [
    "import plotly.express as px"
   ]
  },
  {
   "cell_type": "code",
   "execution_count": 3,
   "metadata": {},
   "outputs": [],
   "source": [
    "import matplotlib.pyplot as plt"
   ]
  },
  {
   "cell_type": "code",
   "execution_count": 4,
   "metadata": {},
   "outputs": [],
   "source": [
    "import seaborn as sns"
   ]
  },
  {
   "cell_type": "code",
   "execution_count": 9,
   "metadata": {},
   "outputs": [],
   "source": [
    "dados_df = pd.read_excel(\"basedeconhecimento.xlsx\")"
   ]
  },
  {
   "cell_type": "code",
   "execution_count": 10,
   "metadata": {},
   "outputs": [
    {
     "data": {
      "text/html": [
       "<div>\n",
       "<style scoped>\n",
       "    .dataframe tbody tr th:only-of-type {\n",
       "        vertical-align: middle;\n",
       "    }\n",
       "\n",
       "    .dataframe tbody tr th {\n",
       "        vertical-align: top;\n",
       "    }\n",
       "\n",
       "    .dataframe thead th {\n",
       "        text-align: right;\n",
       "    }\n",
       "</style>\n",
       "<table border=\"1\" class=\"dataframe\">\n",
       "  <thead>\n",
       "    <tr style=\"text-align: right;\">\n",
       "      <th></th>\n",
       "      <th>numero_faq</th>\n",
       "      <th>problema</th>\n",
       "      <th>solucao</th>\n",
       "      <th>categoria_faq</th>\n",
       "    </tr>\n",
       "  </thead>\n",
       "  <tbody>\n",
       "    <tr>\n",
       "      <th>0</th>\n",
       "      <td>68037</td>\n",
       "      <td>Assuntos Relacionados a Cesta Básica</td>\n",
       "      <td>O MAPA não trata mais de assuntos relacionados...</td>\n",
       "      <td>DEMANDA::SIC::AGRICULTURA::ABASTECIMENTO::ABAS...</td>\n",
       "    </tr>\n",
       "    <tr>\n",
       "      <th>1</th>\n",
       "      <td>68039</td>\n",
       "      <td>AGENCIA DE DEFESA AGROPECUARIA</td>\n",
       "      <td>ADAB- Agência Estadual de Defesa Agropecuária...</td>\n",
       "      <td>DEMANDA::SIC::AGRICULTURA::AGENCIA DE DEFESA A...</td>\n",
       "    </tr>\n",
       "    <tr>\n",
       "      <th>2</th>\n",
       "      <td>68040</td>\n",
       "      <td>SIGNIFICADO AGRICULTURA DE SUBSISTENCIA</td>\n",
       "      <td>Significado de Agricultura de Subsistência É u...</td>\n",
       "      <td>DEMANDA::SIC::AGRICULTURA::AGRICULTURA DE SUBS...</td>\n",
       "    </tr>\n",
       "    <tr>\n",
       "      <th>3</th>\n",
       "      <td>68041</td>\n",
       "      <td>AGRICULTURA FAMILIAR</td>\n",
       "      <td>O cultivo da terra é realizado por pequenos pr...</td>\n",
       "      <td>AGRICULTURA-AGRICULTURA FAMILIAR</td>\n",
       "    </tr>\n",
       "    <tr>\n",
       "      <th>4</th>\n",
       "      <td>68042</td>\n",
       "      <td>AGRICULTURA ORGANICA OU BIOLÓGICA</td>\n",
       "      <td>Agricultura orgânica ou agricultura biológic...</td>\n",
       "      <td>AGRICULTURA-AGRICULTURA ORGANICA</td>\n",
       "    </tr>\n",
       "    <tr>\n",
       "      <th>...</th>\n",
       "      <td>...</td>\n",
       "      <td>...</td>\n",
       "      <td>...</td>\n",
       "      <td>...</td>\n",
       "    </tr>\n",
       "    <tr>\n",
       "      <th>414</th>\n",
       "      <td>1000733</td>\n",
       "      <td>CAFÉ</td>\n",
       "      <td>No que compete a Coordenação Geral de Qualidad...</td>\n",
       "      <td>PRODUCAO ANIMAL E VEGETAL-PRODUCAO VEGETAL</td>\n",
       "    </tr>\n",
       "    <tr>\n",
       "      <th>415</th>\n",
       "      <td>1000736</td>\n",
       "      <td>SELO ARTE</td>\n",
       "      <td>O Selo ARTE foi instituído pela Lei 13.680, de...</td>\n",
       "      <td>PROGRAMAS-PROGRAMAS DE GOVERNO</td>\n",
       "    </tr>\n",
       "    <tr>\n",
       "      <th>416</th>\n",
       "      <td>1000737</td>\n",
       "      <td>XAROPE DE GUARANÁ</td>\n",
       "      <td>O produto xarope de guaraná tem registro obrig...</td>\n",
       "      <td>ALIMENTO-BEBIDAS</td>\n",
       "    </tr>\n",
       "    <tr>\n",
       "      <th>417</th>\n",
       "      <td>1000750</td>\n",
       "      <td>HABILITAÇÃO DE MÉDICOS VETERINÁRIOS</td>\n",
       "      <td>Informamos que com a publicação da IN Mapa nº ...</td>\n",
       "      <td>DEFESA E SEGURANCA-DEFESA ANIMAL-DOENCA ANIMAL...</td>\n",
       "    </tr>\n",
       "    <tr>\n",
       "      <th>418</th>\n",
       "      <td>1000751</td>\n",
       "      <td>TORRESMO</td>\n",
       "      <td>O produto Torresmo deve ser registrado no SIF/...</td>\n",
       "      <td>PRODUTOS E SERVICOS-REGISTRO DE PRODUTO</td>\n",
       "    </tr>\n",
       "  </tbody>\n",
       "</table>\n",
       "<p>419 rows × 4 columns</p>\n",
       "</div>"
      ],
      "text/plain": [
       "     numero_faq                                 problema  \\\n",
       "0         68037     Assuntos Relacionados a Cesta Básica   \n",
       "1         68039           AGENCIA DE DEFESA AGROPECUARIA   \n",
       "2         68040  SIGNIFICADO AGRICULTURA DE SUBSISTENCIA   \n",
       "3         68041                     AGRICULTURA FAMILIAR   \n",
       "4         68042        AGRICULTURA ORGANICA OU BIOLÓGICA   \n",
       "..          ...                                      ...   \n",
       "414     1000733                                     CAFÉ   \n",
       "415     1000736                                SELO ARTE   \n",
       "416     1000737                        XAROPE DE GUARANÁ   \n",
       "417     1000750      HABILITAÇÃO DE MÉDICOS VETERINÁRIOS   \n",
       "418     1000751                                 TORRESMO   \n",
       "\n",
       "                                               solucao  \\\n",
       "0    O MAPA não trata mais de assuntos relacionados...   \n",
       "1     ADAB- Agência Estadual de Defesa Agropecuária...   \n",
       "2    Significado de Agricultura de Subsistência É u...   \n",
       "3    O cultivo da terra é realizado por pequenos pr...   \n",
       "4      Agricultura orgânica ou agricultura biológic...   \n",
       "..                                                 ...   \n",
       "414  No que compete a Coordenação Geral de Qualidad...   \n",
       "415  O Selo ARTE foi instituído pela Lei 13.680, de...   \n",
       "416  O produto xarope de guaraná tem registro obrig...   \n",
       "417  Informamos que com a publicação da IN Mapa nº ...   \n",
       "418  O produto Torresmo deve ser registrado no SIF/...   \n",
       "\n",
       "                                         categoria_faq  \n",
       "0    DEMANDA::SIC::AGRICULTURA::ABASTECIMENTO::ABAS...  \n",
       "1    DEMANDA::SIC::AGRICULTURA::AGENCIA DE DEFESA A...  \n",
       "2    DEMANDA::SIC::AGRICULTURA::AGRICULTURA DE SUBS...  \n",
       "3                     AGRICULTURA-AGRICULTURA FAMILIAR  \n",
       "4                     AGRICULTURA-AGRICULTURA ORGANICA  \n",
       "..                                                 ...  \n",
       "414         PRODUCAO ANIMAL E VEGETAL-PRODUCAO VEGETAL  \n",
       "415                     PROGRAMAS-PROGRAMAS DE GOVERNO  \n",
       "416                                   ALIMENTO-BEBIDAS  \n",
       "417  DEFESA E SEGURANCA-DEFESA ANIMAL-DOENCA ANIMAL...  \n",
       "418            PRODUTOS E SERVICOS-REGISTRO DE PRODUTO  \n",
       "\n",
       "[419 rows x 4 columns]"
      ]
     },
     "metadata": {},
     "output_type": "display_data"
    }
   ],
   "source": [
    "display(dados_df)"
   ]
  }
 ],
 "metadata": {
  "kernelspec": {
   "display_name": "Python 3.10.8 64-bit (microsoft store)",
   "language": "python",
   "name": "python3"
  },
  "language_info": {
   "codemirror_mode": {
    "name": "ipython",
    "version": 3
   },
   "file_extension": ".py",
   "mimetype": "text/x-python",
   "name": "python",
   "nbconvert_exporter": "python",
   "pygments_lexer": "ipython3",
   "version": "3.10.8"
  },
  "orig_nbformat": 4,
  "vscode": {
   "interpreter": {
    "hash": "e05cccd8dd69d322502dc97656c7f76ee584d8c1ccf56f20d1bb8de8db954fb9"
   }
  }
 },
 "nbformat": 4,
 "nbformat_minor": 2
}
